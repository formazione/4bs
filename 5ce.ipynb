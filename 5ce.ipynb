{
  "nbformat": 4,
  "nbformat_minor": 0,
  "metadata": {
    "colab": {
      "name": "5ce.ipynb",
      "provenance": [],
      "toc_visible": true,
      "authorship_tag": "ABX9TyMB4dLmFE32v4S/fwGt5Sug",
      "include_colab_link": true
    },
    "kernelspec": {
      "name": "python3",
      "display_name": "Python 3"
    },
    "language_info": {
      "name": "python"
    }
  },
  "cells": [
    {
      "cell_type": "markdown",
      "metadata": {
        "id": "view-in-github",
        "colab_type": "text"
      },
      "source": [
        "<a href=\"https://colab.research.google.com/github/formazione/4bs/blob/master/5ce.ipynb\" target=\"_parent\"><img src=\"https://colab.research.google.com/assets/colab-badge.svg\" alt=\"Open In Colab\"/></a>"
      ]
    },
    {
      "cell_type": "markdown",
      "metadata": {
        "id": "qTA8QOADbo8a"
      },
      "source": [
        "# 5ce"
      ]
    },
    {
      "cell_type": "code",
      "metadata": {
        "id": "2RDFMcPQbm_y"
      },
      "source": [
        "memo = \"\"\"\n",
        "Educazione civica - fare prova lunedì con testo a comprensione\n",
        "per valutazione educazione civica + parte per elaborato (competenze digitali),\n",
        "comunicazione (soprattutto uso di Internet per promuovere il prodotto, tramite\n",
        "siti, blog, social network oppure con l'uso di fogli di calcolo per calcolare\n",
        "il food cost o per elaborare statistiche relative al target e alle preferenze)\n",
        "\n",
        "- uso di Instagram per realizzare sondaggi sulle preferenze dei clienti\n",
        "- uso delle storie di Instagram per fidelizzare i clienti\n",
        "- 10.000 follower per poter inserire collegamenti a pagine con offerte sul sito\n",
        "\"\"\""
      ],
      "execution_count": 1,
      "outputs": []
    },
    {
      "cell_type": "code",
      "metadata": {
        "id": "02B7NQCJceQ0"
      },
      "source": [
        "def write_note(filename, content):\n",
        "  with open(filename, \"w\", encoding=\"utf-8\", newline=\"\\n\") as file:\n",
        "    file.write(content)\n"
      ],
      "execution_count": 4,
      "outputs": []
    },
    {
      "cell_type": "code",
      "metadata": {
        "id": "5KWMG0HIdcNH"
      },
      "source": [
        "write_note(\"memo.txt\", memo)"
      ],
      "execution_count": 6,
      "outputs": []
    }
  ]
}